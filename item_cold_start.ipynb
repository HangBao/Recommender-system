{
 "cells": [
  {
   "cell_type": "markdown",
   "metadata": {
    "toc": true
   },
   "source": [
    "<h1>Table of Contents<span class=\"tocSkip\"></span></h1>\n",
    "<div class=\"toc\"><ul class=\"toc-item\"><li><span><a href=\"#一、数据\" data-toc-modified-id=\"一、数据-1\">一、数据</a></span></li><li><span><a href=\"#二、通用函数\" data-toc-modified-id=\"二、通用函数-2\">二、通用函数</a></span><ul class=\"toc-item\"><li><span><a href=\"#1.-数据处理\" data-toc-modified-id=\"1.-数据处理-2.1\">1. 数据处理</a></span></li><li><span><a href=\"#2.-评价指标\" data-toc-modified-id=\"2.-评价指标-2.2\">2. 评价指标</a></span></li></ul></li><li><span><a href=\"#三、ContentItemKNN算法实现\" data-toc-modified-id=\"三、ContentItemKNN算法实现-3\">三、ContentItemKNN算法实现</a></span></li><li><span><a href=\"#四、ContentItemKNN实验\" data-toc-modified-id=\"四、ContentItemKNN实验-4\">四、ContentItemKNN实验</a></span></li></ul></div>"
   ]
  },
  {
   "cell_type": "markdown",
   "metadata": {},
   "source": [
    "# 物品冷启动-利用物品的内容信息"
   ]
  },
  {
   "cell_type": "code",
   "execution_count": 1,
   "metadata": {
    "collapsed": true
   },
   "outputs": [],
   "source": [
    "# 导入包\n",
    "import random\n",
    "import math\n",
    "import numpy as np\n",
    "import time\n",
    "from tqdm import tqdm, trange"
   ]
  },
  {
   "cell_type": "markdown",
   "metadata": {},
   "source": [
    "## 一、数据"
   ]
  },
  {
   "cell_type": "markdown",
   "metadata": {},
   "source": [
    "本实验使用MovieLens的ml-1m数据集，它包含了6040名用户对大约3900部电影的1000209条评分记录。\n",
    "\n",
    "下载链接：http://files.grouplens.org/datasets/movielens/ml-1m.zip\n",
    "\n",
    "数据已经下载至dataset文件夹中。"
   ]
  },
  {
   "cell_type": "markdown",
   "metadata": {},
   "source": [
    "## 二、通用函数"
   ]
  },
  {
   "cell_type": "code",
   "execution_count": 2,
   "metadata": {
    "collapsed": true
   },
   "outputs": [],
   "source": [
    "# 定义装饰器，监控运行时间\n",
    "def timmer(func):\n",
    "    def wrapper(*args, **kwargs):\n",
    "        start_time = time.time()\n",
    "        res = func(*args, **kwargs)\n",
    "        stop_time = time.time()\n",
    "        print('Func %s, run time: %s' % (func.__name__, stop_time - start_time))\n",
    "        return res\n",
    "    return wrapper"
   ]
  },
  {
   "cell_type": "markdown",
   "metadata": {},
   "source": [
    "### 1. 数据处理"
   ]
  },
  {
   "cell_type": "code",
   "execution_count": 3,
   "metadata": {},
   "outputs": [],
   "source": [
    "class Dataset():\n",
    "    \n",
    "    def __init__(self, fp, ip):\n",
    "        # fp: data file path\n",
    "        self.data, self.content = self.loadData(fp, ip)\n",
    "    \n",
    "    @timmer\n",
    "    def loadData(self, fp, ip):\n",
    "        data = []\n",
    "        for l in open(fp):\n",
    "            data.append(tuple(map(int, l.strip().split('::')[:2])))\n",
    "        contents = {}\n",
    "        for l in open(ip,\"rb\"):\n",
    "            l = str(l)[2:-1]\n",
    "            contents[int(l.strip().split('::')[0])] = l.strip().split('::')[-1].split('|')\n",
    "        return data, contents\n",
    "    \n",
    "    @timmer\n",
    "    def splitData(self, M, k, seed=1):\n",
    "        '''\n",
    "        :params: data, 加载的所有(user, item)数据条目\n",
    "        :params: M, 划分的数目，最后需要取M折的平均\n",
    "        :params: k, 本次是第几次划分，k~[0, M)\n",
    "        :params: seed, random的种子数，对于不同的k应设置成一样的\n",
    "        :return: train, test\n",
    "        '''\n",
    "        train, test = [], []\n",
    "        random.seed(seed)\n",
    "        for user, item in self.data:\n",
    "            # 这里与书中的不一致，本人认为取M-1较为合理，因randint是左右都覆盖的\n",
    "            if random.randint(0, M-1) == k:  \n",
    "                test.append((user, item))\n",
    "            else:\n",
    "                train.append((user, item))\n",
    "\n",
    "        # 处理成字典的形式，user->set(items)\n",
    "        def convert_dict(data):\n",
    "            data_dict = {}\n",
    "            for user, item in data:\n",
    "                if user not in data_dict:\n",
    "                    data_dict[user] = set()\n",
    "                data_dict[user].add(item)\n",
    "            data_dict = {k: list(data_dict[k]) for k in data_dict}\n",
    "            return data_dict\n",
    "\n",
    "        return convert_dict(train), convert_dict(test), self.content"
   ]
  },
  {
   "cell_type": "markdown",
   "metadata": {},
   "source": [
    "### 2. 评价指标\n",
    "准确率、召回率、覆盖率、流行度"
   ]
  },
  {
   "cell_type": "code",
   "execution_count": 4,
   "metadata": {
    "collapsed": true
   },
   "outputs": [],
   "source": [
    "class Metric():\n",
    "    \n",
    "    def __init__(self, train, test, GetRecommendation):\n",
    "        '''\n",
    "        :params: train, 训练数据\n",
    "        :params: test, 测试数据\n",
    "        :params: GetRecommendation, 为某个用户获取推荐物品的接口函数\n",
    "        '''\n",
    "        self.train = train\n",
    "        self.test = test\n",
    "        self.GetRecommendation = GetRecommendation\n",
    "        self.recs = self.getRec()\n",
    "        \n",
    "    # 为test中的每个用户进行推荐\n",
    "    def getRec(self):\n",
    "        recs = {}\n",
    "        for user in self.test:\n",
    "            rank = self.GetRecommendation(user)\n",
    "            recs[user] = rank\n",
    "        return recs\n",
    "        \n",
    "    # 定义精确率指标计算方式\n",
    "    def precision(self):\n",
    "        all, hit = 0, 0\n",
    "        for user in self.test:\n",
    "            test_items = set(self.test[user])\n",
    "            rank = self.recs[user]\n",
    "            for item, score in rank:\n",
    "                if item in test_items:\n",
    "                    hit += 1\n",
    "            all += len(rank)\n",
    "        return round(hit / all * 100, 2)\n",
    "    \n",
    "    # 定义召回率指标计算方式\n",
    "    def recall(self):\n",
    "        all, hit = 0, 0\n",
    "        for user in self.test:\n",
    "            test_items = set(self.test[user])\n",
    "            rank = self.recs[user]\n",
    "            for item, score in rank:\n",
    "                if item in test_items:\n",
    "                    hit += 1\n",
    "            all += len(test_items)\n",
    "        return round(hit / all * 100, 2)\n",
    "    \n",
    "    # 定义覆盖率指标计算方式\n",
    "    def coverage(self):\n",
    "        all_item, recom_item = set(), set()\n",
    "        for user in self.test:\n",
    "            for item in self.train[user]:\n",
    "                all_item.add(item)\n",
    "            rank = self.recs[user]\n",
    "            for item, score in rank:\n",
    "                recom_item.add(item)\n",
    "        return round(len(recom_item) / len(all_item) * 100, 2)\n",
    "    \n",
    "    # 定义新颖度指标计算方式\n",
    "    def popularity(self):\n",
    "        # 计算物品的流行度\n",
    "        item_pop = {}\n",
    "        for user in self.train:\n",
    "            for item in self.train[user]:\n",
    "                if item not in item_pop:\n",
    "                    item_pop[item] = 0\n",
    "                item_pop[item] += 1\n",
    "\n",
    "        num, pop = 0, 0\n",
    "        for user in self.test:\n",
    "            rank = self.recs[user]\n",
    "            for item, score in rank:\n",
    "                if item in item_pop:\n",
    "                    # 取对数，防止因长尾问题带来的被流行物品所主导\n",
    "                    pop += math.log(1 + item_pop[item])\n",
    "                    num += 1\n",
    "        return round(pop / num, 6)\n",
    "    \n",
    "    def eval(self):\n",
    "        metric = {'Precision': self.precision(),\n",
    "                  'Recall': self.recall(),\n",
    "                  'Coverage': self.coverage(),\n",
    "                  'Popularity': self.popularity()}\n",
    "        print('Metric:', metric)\n",
    "        return metric"
   ]
  },
  {
   "cell_type": "markdown",
   "metadata": {},
   "source": [
    "## 三、ContentItemKNN算法实现"
   ]
  },
  {
   "cell_type": "code",
   "execution_count": 5,
   "metadata": {
    "collapsed": true
   },
   "outputs": [],
   "source": [
    "def ContentItemKNN(train, content, K, N):\n",
    "    '''\n",
    "    :params: train, 训练数据\n",
    "    :params: content, 物品内容信息\n",
    "    :params: K, 取相似Top-K相似物品\n",
    "    :params: N, 推荐TopN物品的个数\n",
    "    :return: GetRecommendation, 获取推荐结果的接口\n",
    "    '''\n",
    "    \n",
    "    # 建立word-item倒排表\n",
    "    word_item = {}\n",
    "    for item in content:\n",
    "        for word in content[item]:\n",
    "            if word not in word_item:\n",
    "                word_item[word] = {}\n",
    "            word_item[word][item] = 1\n",
    "            \n",
    "    for word in word_item:\n",
    "        for item in word_item[word]:\n",
    "            word_item[word][item] /= math.log(1 + len(word_item[word]))\n",
    "\n",
    "    # 计算相似度\n",
    "    item_sim = {}\n",
    "    mo = {}\n",
    "    for word in word_item:\n",
    "        for u in word_item[word]:\n",
    "            if u not in item_sim:\n",
    "                item_sim[u] = {}\n",
    "                mo[u] = 0\n",
    "            mo[u] += word_item[word][u] ** 2\n",
    "            for v in word_item[word]:\n",
    "                if u == v: continue\n",
    "                if v not in item_sim[u]:\n",
    "                    item_sim[u][v] = 0\n",
    "                item_sim[u][v] += word_item[word][u] * word_item[word][v]\n",
    "    for u in item_sim:\n",
    "        for v in item_sim[u]:\n",
    "            item_sim[u][v] /= math.sqrt(mo[u] * mo[v])\n",
    "                \n",
    "    # 按照相似度排序\n",
    "    sorted_item_sim = {k: list(sorted(v.items(), \\\n",
    "                               key=lambda x: x[1], reverse=True)) \\\n",
    "                       for k, v in item_sim.items()}\n",
    "        \n",
    "    # 获取接口函数\n",
    "    def GetRecommendation(user):\n",
    "        items = {}\n",
    "        seen_items = set(train[user])\n",
    "        for item in train[user]:\n",
    "            for u, _ in sorted_item_sim[item][:K]:\n",
    "                # 要去掉用户见过的\n",
    "                if u not in seen_items:\n",
    "                    if u not in items:\n",
    "                        items[u] = 0\n",
    "                    items[u] += item_sim[item][u]\n",
    "        recs = list(sorted(items.items(), key=lambda x: x[1], reverse=True))[:N]\n",
    "        return recs\n",
    "    \n",
    "    return GetRecommendation"
   ]
  },
  {
   "cell_type": "markdown",
   "metadata": {},
   "source": [
    "## 四、ContentItemKNN实验"
   ]
  },
  {
   "cell_type": "code",
   "execution_count": 6,
   "metadata": {
    "collapsed": true
   },
   "outputs": [],
   "source": [
    "class Experiment():\n",
    "    \n",
    "    def __init__(self, M, N, K, fp='./dataset/ml-1m/ratings.dat', ip='./dataset/ml-1m/movies.dat'):\n",
    "        '''\n",
    "        :params: M, 进行多少次实验\n",
    "        :params: N, TopN推荐物品的个数\n",
    "        :params: K, 取Top-K相似物品数目\n",
    "        :params: fp, 数据文件路径\n",
    "        :params: ip, 物品内容路径\n",
    "        '''\n",
    "        self.M = M\n",
    "        self.K = K\n",
    "        self.N = N\n",
    "        self.fp = fp\n",
    "        self.ip = ip\n",
    "        self.alg = ContentItemKNN\n",
    "    \n",
    "    # 定义单次实验\n",
    "    @timmer\n",
    "    def worker(self, train, test, content):\n",
    "        '''\n",
    "        :params: train, 训练数据集\n",
    "        :params: test, 测试数据集\n",
    "        :return: 各指标的值\n",
    "        '''\n",
    "        getRecommendation = self.alg(train, content, self.K, self.N)\n",
    "        metric = Metric(train, test, getRecommendation)\n",
    "        return metric.eval()\n",
    "    \n",
    "    # 多次实验取平均\n",
    "    @timmer\n",
    "    def run(self):\n",
    "        metrics = {'Precision': 0, 'Recall': 0, \n",
    "                   'Coverage': 0, 'Popularity': 0}\n",
    "        dataset = Dataset(self.fp, self.ip)\n",
    "        for ii in range(self.M):\n",
    "            train, test, content = dataset.splitData(self.M, ii)\n",
    "            print('Experiment {}:'.format(ii))\n",
    "            metric = self.worker(train, test, content)\n",
    "            metrics = {k: metrics[k]+metric[k] for k in metrics}\n",
    "        metrics = {k: metrics[k] / self.M for k in metrics}\n",
    "        print('Average Result (M={}, N={}, K={}): {}'.format(\\\n",
    "                              self.M, self.N, self.K, metrics))"
   ]
  },
  {
   "cell_type": "code",
   "execution_count": 7,
   "metadata": {},
   "outputs": [
    {
     "name": "stdout",
     "output_type": "stream",
     "text": [
      "Func loadData, run time: 2.151122808456421\n",
      "Func splitData, run time: 2.6801531314849854\n",
      "Experiment 0:\n",
      "Metric: {'Precision': 1.65, 'Recall': 0.79, 'Coverage': 17.13, 'Popularity': 4.616362}\n",
      "Func worker, run time: 10.759615421295166\n",
      "Func splitData, run time: 2.4671409130096436\n",
      "Experiment 1:\n",
      "Metric: {'Precision': 1.81, 'Recall': 0.87, 'Coverage': 16.81, 'Popularity': 4.611126}\n",
      "Func worker, run time: 10.767615795135498\n",
      "Func splitData, run time: 2.5831475257873535\n",
      "Experiment 2:\n",
      "Metric: {'Precision': 1.9, 'Recall': 0.91, 'Coverage': 16.29, 'Popularity': 4.621031}\n",
      "Func worker, run time: 10.037574052810669\n",
      "Func splitData, run time: 2.5541460514068604\n",
      "Experiment 3:\n",
      "Metric: {'Precision': 1.74, 'Recall': 0.84, 'Coverage': 16.63, 'Popularity': 4.623422}\n",
      "Func worker, run time: 10.040574312210083\n",
      "Func splitData, run time: 2.521144390106201\n",
      "Experiment 4:\n",
      "Metric: {'Precision': 1.79, 'Recall': 0.86, 'Coverage': 16.31, 'Popularity': 4.619975}\n",
      "Func worker, run time: 10.98062777519226\n",
      "Func splitData, run time: 2.7171552181243896\n",
      "Experiment 5:\n",
      "Metric: {'Precision': 1.84, 'Recall': 0.89, 'Coverage': 16.47, 'Popularity': 4.638201}\n",
      "Func worker, run time: 10.355592489242554\n",
      "Func splitData, run time: 2.5761470794677734\n",
      "Experiment 6:\n",
      "Metric: {'Precision': 1.82, 'Recall': 0.88, 'Coverage': 17.13, 'Popularity': 4.607126}\n",
      "Func worker, run time: 10.965627193450928\n",
      "Func splitData, run time: 2.7041547298431396\n",
      "Experiment 7:\n",
      "Metric: {'Precision': 1.84, 'Recall': 0.88, 'Coverage': 16.64, 'Popularity': 4.607283}\n",
      "Func worker, run time: 10.258586883544922\n",
      "Average Result (M=8, N=10, K=10): {'Precision': 1.79875, 'Recall': 0.865, 'Coverage': 16.67625, 'Popularity': 4.61806575}\n",
      "Func run, run time: 107.44514536857605\n"
     ]
    }
   ],
   "source": [
    "M, N, K = 8, 10, 10\n",
    "exp = Experiment(M, N, K)\n",
    "exp.run()"
   ]
  },
  {
   "cell_type": "code",
   "execution_count": null,
   "metadata": {},
   "outputs": [],
   "source": []
  }
 ],
 "metadata": {
  "kernelspec": {
   "display_name": "Python 3",
   "language": "python",
   "name": "python3"
  },
  "language_info": {
   "codemirror_mode": {
    "name": "ipython",
    "version": 3
   },
   "file_extension": ".py",
   "mimetype": "text/x-python",
   "name": "python",
   "nbconvert_exporter": "python",
   "pygments_lexer": "ipython3",
   "version": "3.6.5"
  },
  "toc": {
   "base_numbering": 1,
   "nav_menu": {},
   "number_sections": false,
   "sideBar": true,
   "skip_h1_title": true,
   "title_cell": "Table of Contents",
   "title_sidebar": "Contents",
   "toc_cell": true,
   "toc_position": {},
   "toc_section_display": true,
   "toc_window_display": true
  }
 },
 "nbformat": 4,
 "nbformat_minor": 2
}
