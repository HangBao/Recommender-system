{
 "cells": [
  {
   "cell_type": "markdown",
   "metadata": {
    "toc": true
   },
   "source": [
    "<h1>Table of Contents<span class=\"tocSkip\"></span></h1>\n",
    "<div class=\"toc\"><ul class=\"toc-item\"><li><span><a href=\"#一、-数据\" data-toc-modified-id=\"一、-数据-1\">一、 数据</a></span></li><li><span><a href=\"#二.、通用函数\" data-toc-modified-id=\"二.、通用函数-2\">二.、通用函数</a></span><ul class=\"toc-item\"><li><span><a href=\"#1.-数据处理\" data-toc-modified-id=\"1.-数据处理-2.1\">1. 数据处理</a></span></li><li><span><a href=\"#2.-评价指标\" data-toc-modified-id=\"2.-评价指标-2.2\">2. 评价指标</a></span></li></ul></li><li><span><a href=\"#三.-算法实现\" data-toc-modified-id=\"三.-算法实现-3\">三. 算法实现</a></span><ul class=\"toc-item\"><li><span><a href=\"#1.-MostPopular\" data-toc-modified-id=\"1.-MostPopular-3.1\">1. MostPopular</a></span></li><li><span><a href=\"#2.-GenderMostPopular\" data-toc-modified-id=\"2.-GenderMostPopular-3.2\">2. GenderMostPopular</a></span></li><li><span><a href=\"#3.-AgeMostPopular\" data-toc-modified-id=\"3.-AgeMostPopular-3.3\">3. AgeMostPopular</a></span></li><li><span><a href=\"#4.-CountryMostPopular\" data-toc-modified-id=\"4.-CountryMostPopular-3.4\">4. CountryMostPopular</a></span></li><li><span><a href=\"#5.-DemographicMostPopular\" data-toc-modified-id=\"5.-DemographicMostPopular-3.5\">5. DemographicMostPopular</a></span></li></ul></li><li><span><a href=\"#四、实验\" data-toc-modified-id=\"四、实验-4\">四、实验</a></span><ul class=\"toc-item\"><li><span><a href=\"#1.-MostPopular\" data-toc-modified-id=\"1.-MostPopular-4.1\">1. MostPopular</a></span></li><li><span><a href=\"#2.-GenderMostPopular\" data-toc-modified-id=\"2.-GenderMostPopular-4.2\">2. GenderMostPopular</a></span></li><li><span><a href=\"#3.-AgeMostPopular\" data-toc-modified-id=\"3.-AgeMostPopular-4.3\">3. AgeMostPopular</a></span></li><li><span><a href=\"#4.-CountryMostPopular\" data-toc-modified-id=\"4.-CountryMostPopular-4.4\">4. CountryMostPopular</a></span></li><li><span><a href=\"#5.-DemographicMostPopular\" data-toc-modified-id=\"5.-DemographicMostPopular-4.5\">5. DemographicMostPopular</a></span></li></ul></li></ul></div>"
   ]
  },
  {
   "cell_type": "markdown",
   "metadata": {},
   "source": [
    "# 用户冷启动-利用用户注册信息"
   ]
  },
  {
   "cell_type": "code",
   "execution_count": 1,
   "metadata": {
    "collapsed": true
   },
   "outputs": [],
   "source": [
    "# 导入包\n",
    "import random\n",
    "import math\n",
    "import time"
   ]
  },
  {
   "cell_type": "markdown",
   "metadata": {},
   "source": [
    "## 一、 数据"
   ]
  },
  {
   "cell_type": "markdown",
   "metadata": {},
   "source": [
    "本实验使用Last.fm 360K 数据集，它包含了36万users对30万artists的收听情况，文件大小1.6G，共17559530行记录。\n",
    "\n",
    "下载链接：http://mtg.upf.edu/static/datasets/last.fm/lastfm-dataset-360K.tar.gz\n",
    "\n",
    "将下载好的数据压缩包解压至dataset文件夹中。"
   ]
  },
  {
   "cell_type": "markdown",
   "metadata": {},
   "source": [
    "## 二.、通用函数"
   ]
  },
  {
   "cell_type": "code",
   "execution_count": 2,
   "metadata": {
    "collapsed": true
   },
   "outputs": [],
   "source": [
    "# 定义装饰器，监控运行时间\n",
    "# 装饰器详解：https://www.cnblogs.com/yuzhanhong/p/9180212.html；简单来讲就是对其他函数进行计时功能的扩展\n",
    "def timmer(func):\n",
    "    def wrapper(*args, **kwargs):\n",
    "        start_time = time.time()\n",
    "        res = func(*args, **kwargs)\n",
    "        stop_time = time.time()\n",
    "        print('Func %s, run time: %s' % (func.__name__, stop_time - start_time))\n",
    "        return res\n",
    "    return wrapper"
   ]
  },
  {
   "cell_type": "markdown",
   "metadata": {},
   "source": [
    "### 1. 数据处理"
   ]
  },
  {
   "attachments": {
    "image.png": {
     "image/png": "[encoded data removed]"
    }
   },
   "cell_type": "markdown",
   "metadata": {},
   "source": [
    "up = './dataset/lastfm-dataset-360K/usersha1-profile.tsv'\n",
    "\n",
    "![image.png](attachment:image.png)"
   ]
  },
  {
   "attachments": {
    "image.png": {
     "image/png": "[encoded data removed]"
    }
   },
   "cell_type": "markdown",
   "metadata": {},
   "source": [
    "fp='./dataset/lastfm-dataset-360K/usersha1-artmbid-artname-plays.tsv'\n",
    "\n",
    "![image.png](attachment:image.png)"
   ]
  },
  {
   "cell_type": "code",
   "execution_count": 3,
   "metadata": {
    "collapsed": true
   },
   "outputs": [],
   "source": [
    "class Dataset():\n",
    "    \n",
    "    def __init__(self, fp, up):\n",
    "        # fp: data file path ，示例数据见上文\n",
    "        # up: user profile path ，示例数据见上文\n",
    "        self.data, self.profile = self.loadData(fp, up)\n",
    "    \n",
    "    @timmer\n",
    "    def loadData(self, fp, up):\n",
    "        # 使用列表存储用户行为数据\n",
    "        data = []\n",
    "        for l in open(fp,encoding=\"utf-8\"):\n",
    "            # 文件中每一行字符串先去掉首尾空白符，然后用“\\t”拆分，最后取前两个元素（用户ID和艺术家ID）存入data\n",
    "            data.append(tuple(l.strip().split('\\t')[:2]))\n",
    "        \n",
    "        # 使用字典存储用户属性数据\n",
    "        profile = {}\n",
    "        for l in open(up,encoding=\"utf-8\"):\n",
    "            # 同上文，字符串拆分并取相应值\n",
    "            user, gender, age, country, _ = l.strip().split('\\t')\n",
    "            # age 缺省值填充-1\n",
    "            if age == '': \n",
    "                age = -1\n",
    "            # 使用字典存储每个用户的属性信息\n",
    "            profile[user] = {'gender': gender, 'age': int(age), 'country': country}\n",
    "            \n",
    "        ####################### 按照用户进行采样\n",
    "        # 取所有用户ID的列表\n",
    "        users = list(profile.keys()) \n",
    "        # 将所有用户随机排序\n",
    "        random.shuffle(users) \n",
    "        # 取前5000个用户并去重\n",
    "        users = set(users[:5000])\n",
    "        # 根据采样后的用户ID从data中取相应的行为数据\n",
    "        data = [x for x in data if x[0] in users]  # Python 列表推导式详解 https://www.runoob.com/note/15802\n",
    "        # 据采样后的用户ID筛选相应的属性数据\n",
    "        profile = {k: profile[k] for k in users} # 与列表推导式同理\n",
    "        # 返回采样后的数据\n",
    "        return data, profile\n",
    "    \n",
    "    @timmer\n",
    "    def splitData(self, M, k, seed=1):\n",
    "        '''\n",
    "        :params: M, 划分的数目，最后需要取M折的平均\n",
    "        :params: k, 本次是第几次划分，k~[0, M)\n",
    "        :params: seed, random的种子数，对于不同的k应设置成一样的\n",
    "        '''\n",
    "        # 列表存储训练集和测试集\n",
    "        train, test = [], []\n",
    "        # 设置相同的seed，每次下面生成的随机数相同。如果不设置seed，则每次会生成不同的随机数\n",
    "        random.seed(seed) # https://www.runoob.com/python/func-number-seed.html\n",
    "        for user, item in self.data:\n",
    "            # random.randint取[0,M-1]闭区间上的整数\n",
    "            if random.randint(0, M-1) == k:  \n",
    "                # 一份测试集\n",
    "                test.append((user, item))\n",
    "            else:\n",
    "                # 其他作为训练集\n",
    "                train.append((user, item))\n",
    "\n",
    "        # 行为数据处理成字典的形式：user->set(items)\n",
    "        def convert_dict(data):\n",
    "            data_dict = {}\n",
    "            for user, item in data:\n",
    "                # 初始化该用户的行为记录为一个集合\n",
    "                if user not in data_dict:\n",
    "                    data_dict[user] = set()\n",
    "                # 字典赋值：循环结束后既可以收集到该用户全部有行为的item\n",
    "                data_dict[user].add(item)\n",
    "            # 将字典的值转换为列表格式存储\n",
    "            data_dict = {k: list(data_dict[k]) for k in data_dict}\n",
    "            return data_dict\n",
    "\n",
    "        return convert_dict(train), convert_dict(test), self.profile"
   ]
  },
  {
   "cell_type": "markdown",
   "metadata": {},
   "source": [
    "### 2. 评价指标\n",
    "\n",
    "准确率、召回率、覆盖率"
   ]
  },
  {
   "cell_type": "code",
   "execution_count": 4,
   "metadata": {
    "collapsed": true
   },
   "outputs": [],
   "source": [
    "class Metric():\n",
    "    \n",
    "    def __init__(self, train, test, GetRecommendation):\n",
    "        '''\n",
    "        :params: train, 训练数据\n",
    "        :params: test, 测试数据\n",
    "        :params: GetRecommendation, 为某个用户获取推荐物品的接口函数\n",
    "        '''\n",
    "        self.train = train\n",
    "        self.test = test\n",
    "        self.GetRecommendation = GetRecommendation\n",
    "        self.recs = self.getRec()\n",
    "        \n",
    "    # 为test中的每个用户进行推荐\n",
    "    def getRec(self):\n",
    "        # 字典存储所有用户的推荐结果\n",
    "        recs = {}\n",
    "        for user in self.test:\n",
    "            # 获取每个用户的推荐列表\n",
    "            rank = self.GetRecommendation(user)\n",
    "            # 字典赋值\n",
    "            recs[user] = rank\n",
    "        return recs\n",
    "        \n",
    "    # 定义精确率指标计算方式\n",
    "    # 准确率是推荐结果中命中的比例 \n",
    "    def precision(self):\n",
    "        # all 是为所有测试用户推荐的总item数目 ，hit 是命中数目\n",
    "        all, hit = 0, 0\n",
    "        # 遍历每个用户\n",
    "        for user in self.test:\n",
    "            # 每个用户的物品集合\n",
    "            test_items = set(self.test[user])\n",
    "            # 取该用户的推荐结果\n",
    "            rank = self.recs[user]\n",
    "            # 遍历累加推荐结果中命中测试集的个数\n",
    "            for item, score in rank:\n",
    "                # 推荐结果命中测试集item\n",
    "                if item in test_items:\n",
    "                    hit += 1\n",
    "            # all 是所有测试用户的推荐数目累加和\n",
    "            all += len(rank)\n",
    "        # 返回精确率\n",
    "        return round(hit / all * 100, 2)  # round()方法 https://www.runoob.com/python/func-number-round.html\n",
    "    \n",
    "    # 定义召回率指标计算方式\n",
    "    # 召回率是测试集中命中的比例，相比精确率只有all的取值不同\n",
    "    def recall(self):\n",
    "        all, hit = 0, 0\n",
    "        for user in self.test:\n",
    "            test_items = set(self.test[user])\n",
    "            rank = self.recs[user]\n",
    "            for item, score in rank:\n",
    "                if item in test_items:\n",
    "                    hit += 1\n",
    "            all += len(test_items)\n",
    "        return round(hit / all * 100, 2)\n",
    "    \n",
    "    # 定义覆盖率指标计算方式\n",
    "    # 覆盖率是推荐的items数量占总物品集合的1比例，故有如下代码\n",
    "    def coverage(self):\n",
    "        all_item, recom_item = set(), set()\n",
    "        for user in self.test:\n",
    "            if user in self.train:\n",
    "                for item in self.train[user]:\n",
    "                    all_item.add(item)\n",
    "            rank = self.recs[user]\n",
    "            for item, score in rank:\n",
    "                recom_item.add(item)\n",
    "        return round(len(recom_item) / len(all_item) * 100, 2)\n",
    "    \n",
    "    # 打包所有指标\n",
    "    def eval(self):\n",
    "        metric = {'Precision': self.precision(),\n",
    "                  'Recall': self.recall(),\n",
    "                  'Coverage': self.coverage()}\n",
    "        print('Metric:', metric)\n",
    "        return metric"
   ]
  },
  {
   "cell_type": "markdown",
   "metadata": {},
   "source": [
    "## 三. 算法实现"
   ]
  },
  {
   "cell_type": "markdown",
   "metadata": {},
   "source": [
    "### 1. MostPopular"
   ]
  },
  {
   "cell_type": "code",
   "execution_count": 5,
   "metadata": {
    "collapsed": true
   },
   "outputs": [],
   "source": [
    "def MostPopular(train, profile, N):\n",
    "    '''\n",
    "    :params: train, 训练数据\n",
    "    :params: profile, 用户的注册信息\n",
    "    :params: N, 推荐TopN物品的个数\n",
    "    :return: GetRecommendation, 获取推荐结果的接口\n",
    "    '''\n",
    "    # 字典存储每个item的数量\n",
    "    items = {}\n",
    "    # 遍历取行为数据中所有item\n",
    "    for user in train:\n",
    "        for item in train[user]:\n",
    "            # 字典初始化\n",
    "            if item not in items:\n",
    "                items[item] = 0\n",
    "            # 累加每个item的数量\n",
    "            items[item] += 1\n",
    "    # 根据item的数量进行降序排序并转换为列表存入items中\n",
    "    # sorted的参数key指定了排序的依据，默认升序，reverse=True表示反转：降序\n",
    "    items = list(sorted(items.items(), key=lambda x: x[1], reverse=True))\n",
    "        \n",
    "    # 获取接口函数\n",
    "    def GetRecommendation(user):\n",
    "        # 看过的item集合，新用户（不在train中）则返回空集\n",
    "        seen_items = set(train[user]) if user in train else set()\n",
    "        # 给老用户推荐没看过的items中收听量前N的item;新用户则直接推荐热度topN的item\n",
    "        recs = [x for x in items if x[0] not in seen_items][:N]\n",
    "        return recs\n",
    "    \n",
    "    # 返回函数引用\n",
    "    return GetRecommendation"
   ]
  },
  {
   "cell_type": "markdown",
   "metadata": {},
   "source": [
    "### 2. GenderMostPopular"
   ]
  },
  {
   "cell_type": "code",
   "execution_count": 6,
   "metadata": {
    "collapsed": true
   },
   "outputs": [],
   "source": [
    "def GenderMostPopular(train, profile, N):\n",
    "    '''\n",
    "    :params: train, 训练数据\n",
    "    :params: profile, 用户的注册信息\n",
    "    :params: N, 推荐TopN物品的个数\n",
    "    :return: GetRecommendation, 获取推荐结果的接口\n",
    "    '''\n",
    "    # 相比MostPopula只是分男女统计每个item数量\n",
    "    mitems, fitems = {}, {} # 男、女\n",
    "    for user in train:\n",
    "        if profile[user]['gender'] == 'm':\n",
    "            tmp = mitems\n",
    "        elif profile[user]['gender'] == 'f':\n",
    "            tmp = fitems\n",
    "        for item in train[user]:\n",
    "            if item not in tmp:\n",
    "                tmp[item] = 0\n",
    "            # tmp 的变化直接改变对应 mitems或fitems 的值 （一个用户只要一个性别属性，即一次循环tmp只改变mitems或fitems中的一个）\n",
    "            tmp[item] += 1\n",
    "            \n",
    "    # 分性别topN排序\n",
    "    mitems = list(sorted(mitems.items(), key=lambda x: x[1], reverse=True))\n",
    "    fitems = list(sorted(fitems.items(), key=lambda x: x[1], reverse=True))\n",
    "    # 不分性别topN排序\n",
    "    mostPopular = MostPopular(train, profile, N)\n",
    "    \n",
    "    # 获取接口函数\n",
    "    def GetRecommendation(user):\n",
    "        seen_items = set(train[user]) if user in train else set()\n",
    "        if profile[user]['gender'] == 'm':\n",
    "            recs = [x for x in mitems if x[0] not in seen_items][:N]\n",
    "        elif profile[user]['gender'] == 'f':\n",
    "            recs = [x for x in fitems if x[0] not in seen_items][:N]\n",
    "        else: # 没有提供性别信息的，按照MostPopular推荐\n",
    "            recs = mostPopular(user)\n",
    "        return recs\n",
    "    \n",
    "    return GetRecommendation"
   ]
  },
  {
   "cell_type": "markdown",
   "metadata": {},
   "source": [
    "### 3. AgeMostPopular"
   ]
  },
  {
   "cell_type": "code",
   "execution_count": 7,
   "metadata": {
    "collapsed": true
   },
   "outputs": [],
   "source": [
    "# 参考上文思路，代码只是做了分年龄的热度统计\n",
    "def AgeMostPopular(train, profile, N):\n",
    "    '''\n",
    "    :params: train, 训练数据\n",
    "    :params: profile, 用户的注册信息\n",
    "    :params: N, 推荐TopN物品的个数\n",
    "    :return: GetRecommendation, 获取推荐结果的接口\n",
    "    '''\n",
    "    \n",
    "    # 对年龄进行分段\n",
    "    ages = []\n",
    "    for user in profile:\n",
    "        if profile[user]['age'] >= 0:\n",
    "            ages.append(profile[user]['age'])\n",
    "    maxAge, minAge = max(ages), min(ages)\n",
    "    items = [{} for _ in range(int(maxAge // 10 + 1))]\n",
    "    \n",
    "    # 分年龄段进行统计\n",
    "    for user in train:\n",
    "        if profile[user]['age'] >= 0:\n",
    "            age = profile[user]['age'] // 10\n",
    "            for item in train[user]:\n",
    "                if item not in items[age]:\n",
    "                    items[age][item] = 0\n",
    "                items[age][item] += 1\n",
    "    for i in range(len(items)):\n",
    "        items[i] = list(sorted(items[i].items(), key=lambda x: x[1], reverse=True))\n",
    "    \n",
    "    mostPopular = MostPopular(train, profile, N)\n",
    "    \n",
    "    # 获取接口函数\n",
    "    def GetRecommendation(user):\n",
    "        seen_items = set(train[user]) if user in train else set()\n",
    "        if profile[user]['age'] >= 0:\n",
    "            age = profile[user]['age'] // 10\n",
    "            # 年龄信息异常的，按照全局推荐\n",
    "            if age >= len(items) or len(items[age]) == 0:\n",
    "                recs = mostPopular(user)\n",
    "            else:\n",
    "                recs = [x for x in items[age] if x[0] not in seen_items][:N]\n",
    "        else: # 没有提供年龄信息的，按照全局推荐\n",
    "            recs = mostPopular(user)\n",
    "        return recs\n",
    "    \n",
    "    return GetRecommendation"
   ]
  },
  {
   "cell_type": "markdown",
   "metadata": {},
   "source": [
    "### 4. CountryMostPopular"
   ]
  },
  {
   "cell_type": "code",
   "execution_count": 8,
   "metadata": {
    "collapsed": true
   },
   "outputs": [],
   "source": [
    "# 参考上文思路，代码只是做了分城市的热度统计\n",
    "def CountryMostPopular(train, profile, N):\n",
    "    '''\n",
    "    :params: train, 训练数据\n",
    "    :params: profile, 用户的注册信息\n",
    "    :params: N, 推荐TopN物品的个数\n",
    "    :return: GetRecommendation, 获取推荐结果的接口\n",
    "    '''\n",
    "        \n",
    "    # 分城市进行统计\n",
    "    items = {}\n",
    "    for user in train:\n",
    "        country = profile[user]['country']\n",
    "        if country not in items:\n",
    "            items[country] = {}\n",
    "        for item in train[user]:\n",
    "            if item not in items[country]:\n",
    "                items[country][item] = 0\n",
    "            items[country][item] += 1\n",
    "    for country in items:\n",
    "        items[country] = list(sorted(items[country].items(), key=lambda x: x[1], reverse=True))\n",
    "    \n",
    "    mostPopular = MostPopular(train, profile, N)\n",
    "    \n",
    "    # 获取接口函数\n",
    "    def GetRecommendation(user):\n",
    "        seen_items = set(train[user]) if user in train else set()\n",
    "        country = profile[user]['country']\n",
    "        if country in items:\n",
    "            recs = [x for x in items[country] if x[0] not in seen_items][:N]\n",
    "        else: # 没有提供城市信息的，按照全局推荐\n",
    "            recs = mostPopular(user)\n",
    "        return recs\n",
    "    \n",
    "    return GetRecommendation"
   ]
  },
  {
   "cell_type": "markdown",
   "metadata": {},
   "source": [
    "### 5. DemographicMostPopular"
   ]
  },
  {
   "cell_type": "code",
   "execution_count": 9,
   "metadata": {
    "collapsed": true
   },
   "outputs": [],
   "source": [
    "# 综合当前用户的注册信息进行推荐\n",
    "def DemographicMostPopular(train, profile, N):\n",
    "    '''\n",
    "    :params: train, 训练数据\n",
    "    :params: profile, 用户的注册信息\n",
    "    :params: N, 推荐TopN物品的个数\n",
    "    :return: GetRecommendation, 获取推荐结果的接口\n",
    "    '''\n",
    "\n",
    "    # 建立多重字典，将缺失值当成other，同归为一类进行处理\n",
    "    items = {}\n",
    "    for user in train:\n",
    "        gender = profile[user]['gender']\n",
    "        if gender not in items:\n",
    "            items[gender] = {}\n",
    "        age = profile[user]['age'] // 10\n",
    "        if age not in items[gender]:\n",
    "            items[gender][age] = {}\n",
    "        country = profile[user]['country']\n",
    "        if country not in items[gender][age]:\n",
    "            items[gender][age][country] = {}\n",
    "        for item in train[user]:\n",
    "            if item not in items[gender][age][country]:\n",
    "                items[gender][age][country][item] = 0\n",
    "            items[gender][age][country][item] += 1\n",
    "    for gender in items:\n",
    "        for age in items[gender]:\n",
    "            for country in items[gender][age]:\n",
    "                items[gender][age][country] = list(sorted(items[gender][age][country].items(), \n",
    "                                                          key=lambda x: x[1], reverse=True))\n",
    "                \n",
    "    mostPopular = MostPopular(train, profile, N)\n",
    "    \n",
    "    # 获取接口函数\n",
    "    def GetRecommendation(user):\n",
    "        seen_items = set(train[user]) if user in train else set()\n",
    "        gender = profile[user]['gender']\n",
    "        age = profile[user]['age']\n",
    "        country = profile[user]['country']\n",
    "        if gender not in items or age not in items[gender] or country not in items[gender][age]:\n",
    "            recs = mostPopular(user)\n",
    "        else:\n",
    "            recs = [x for x in items[gender][age][country] if x[0] not in seen_items][:N]\n",
    "        return recs\n",
    "    \n",
    "    return GetRecommendation"
   ]
  },
  {
   "cell_type": "markdown",
   "metadata": {},
   "source": [
    "## 四、实验"
   ]
  },
  {
   "cell_type": "code",
   "execution_count": 10,
   "metadata": {
    "collapsed": true
   },
   "outputs": [],
   "source": [
    "class Experiment():\n",
    "    \n",
    "    def __init__(self, M, N, at='MostPopular',\n",
    "                 fp='./dataset/lastfm-dataset-360K/usersha1-artmbid-artname-plays.tsv',\n",
    "                 up='./dataset/lastfm-dataset-360K/usersha1-profile.tsv'):\n",
    "        '''\n",
    "        :params: M, 进行多少次实验\n",
    "        :params: N, TopN推荐物品的个数\n",
    "        :params: at, 使用的算法名\n",
    "        :params: fp, 数据文件路径\n",
    "        :params: up, 用户注册信息文件路径\n",
    "        '''\n",
    "        self.M = M\n",
    "        self.N = N\n",
    "        self.fp = fp\n",
    "        self.up = up\n",
    "        self.at = at\n",
    "        # 定义at参数对应的函数名\n",
    "        self.alg = {'MostPopular': MostPopular, 'GenderMostPopular': GenderMostPopular,\n",
    "                    'AgeMostPopular': AgeMostPopular, 'CountryMostPopular': CountryMostPopular,\n",
    "                    'DemographicMostPopular': DemographicMostPopular}\n",
    "    \n",
    "    # 定义单次实验\n",
    "    @timmer\n",
    "    def worker(self, train, test, profile):\n",
    "        '''\n",
    "        :params: train, 训练数据集\n",
    "        :params: test, 测试数据集\n",
    "        :params: profile, 用户注册信息\n",
    "        :return: 各指标的值\n",
    "        '''\n",
    "        # 调用指定的推荐算法\n",
    "        getRecommendation = self.alg[self.at](train, profile, self.N)\n",
    "        # 调用评价函数\n",
    "        metric = Metric(train, test, getRecommendation)\n",
    "        # 返回评价指标\n",
    "        return metric.eval()\n",
    "    \n",
    "    # M次实验取平均\n",
    "    @timmer\n",
    "    def run(self):\n",
    "        metrics = {'Precision': 0, 'Recall': 0, \n",
    "                   'Coverage': 0}\n",
    "        \n",
    "        # 初始化一个数据对象，具体可参看Dataset类\n",
    "        dataset = Dataset(self.fp, self.up)\n",
    "        for ii in range(self.M):\n",
    "            # 划分数据集\n",
    "            train, test, profile = dataset.splitData(self.M, ii)\n",
    "            # 第几次实验\n",
    "            print('Experiment {}:'.format(ii))\n",
    "            # 当前实验的评价指标\n",
    "            metric = self.worker(train, test, profile)\n",
    "            # 累加当前实验的每个指标 metric[k] ，结果存在 metrics 中\n",
    "            metrics = {k: metrics[k]+metric[k] for k in metrics}\n",
    "        # 计算每个指标的平均值\n",
    "        metrics = {k: metrics[k] / self.M for k in metrics}\n",
    "        # 输出结果\n",
    "        print('Average Result (M={}, N={}): {}'.format(\\\n",
    "                              self.M, self.N, metrics))"
   ]
  },
  {
   "cell_type": "markdown",
   "metadata": {},
   "source": [
    "### 1. MostPopular"
   ]
  },
  {
   "cell_type": "code",
   "execution_count": 11,
   "metadata": {},
   "outputs": [
    {
     "name": "stdout",
     "output_type": "stream",
     "text": [
      "Func loadData, run time: 70.38202571868896\n",
      "Func splitData, run time: 0.7500429153442383\n",
      "Experiment 0:\n",
      "Metric: {'Precision': 2.3, 'Recall': 4.68, 'Coverage': 0.07}\n",
      "Func worker, run time: 36.15706825256348\n",
      "Func splitData, run time: 0.6500372886657715\n",
      "Experiment 1:\n",
      "Metric: {'Precision': 2.24, 'Recall': 4.55, 'Coverage': 0.07}\n",
      "Func worker, run time: 38.96022820472717\n",
      "Func splitData, run time: 0.7690439224243164\n",
      "Experiment 2:\n",
      "Metric: {'Precision': 2.16, 'Recall': 4.37, 'Coverage': 0.07}\n",
      "Func worker, run time: 45.32559251785278\n",
      "Func splitData, run time: 0.7970454692840576\n",
      "Experiment 3:\n",
      "Metric: {'Precision': 2.27, 'Recall': 4.59, 'Coverage': 0.07}\n",
      "Func worker, run time: 43.01646041870117\n",
      "Func splitData, run time: 0.952054500579834\n",
      "Experiment 4:\n",
      "Metric: {'Precision': 2.36, 'Recall': 4.82, 'Coverage': 0.07}\n",
      "Func worker, run time: 51.1019229888916\n",
      "Func splitData, run time: 0.8530488014221191\n",
      "Experiment 5:\n",
      "Metric: {'Precision': 2.28, 'Recall': 4.67, 'Coverage': 0.07}\n",
      "Func worker, run time: 38.887224197387695\n",
      "Func splitData, run time: 0.599034309387207\n",
      "Experiment 6:\n",
      "Metric: {'Precision': 2.42, 'Recall': 4.89, 'Coverage': 0.07}\n",
      "Func worker, run time: 37.15612506866455\n",
      "Func splitData, run time: 0.599034309387207\n",
      "Experiment 7:\n",
      "Metric: {'Precision': 2.35, 'Recall': 4.76, 'Coverage': 0.07}\n",
      "Func worker, run time: 36.80210494995117\n",
      "Func splitData, run time: 0.6440370082855225\n",
      "Experiment 8:\n",
      "Metric: {'Precision': 2.21, 'Recall': 4.44, 'Coverage': 0.07}\n",
      "Func worker, run time: 40.74833059310913\n",
      "Func splitData, run time: 0.6520373821258545\n",
      "Experiment 9:\n",
      "Metric: {'Precision': 2.19, 'Recall': 4.48, 'Coverage': 0.07}\n",
      "Func worker, run time: 41.28636169433594\n",
      "Average Result (M=10, N=10): {'Precision': 2.2780000000000005, 'Recall': 4.625, 'Coverage': 0.07000000000000002}\n",
      "Func run, run time: 488.05991554260254\n"
     ]
    }
   ],
   "source": [
    "# M次试验，推荐topN\n",
    "M, N = 10, 10\n",
    "exp = Experiment(M, N, at='MostPopular')\n",
    "exp.run()"
   ]
  },
  {
   "cell_type": "markdown",
   "metadata": {},
   "source": [
    "### 2. GenderMostPopular"
   ]
  },
  {
   "cell_type": "code",
   "execution_count": 14,
   "metadata": {},
   "outputs": [
    {
     "name": "stdout",
     "output_type": "stream",
     "text": [
      "Func loadData, run time: 53.76307511329651\n",
      "Func splitData, run time: 0.7260417938232422\n",
      "Experiment 0:\n",
      "Metric: {'Precision': 2.39, 'Recall': 4.87, 'Coverage': 0.1}\n",
      "Func worker, run time: 27.024545907974243\n",
      "Func splitData, run time: 0.6180355548858643\n",
      "Experiment 1:\n",
      "Metric: {'Precision': 2.26, 'Recall': 4.58, 'Coverage': 0.1}\n",
      "Func worker, run time: 27.49257254600525\n",
      "Func splitData, run time: 0.605034351348877\n",
      "Experiment 2:\n",
      "Metric: {'Precision': 2.35, 'Recall': 4.76, 'Coverage': 0.1}\n",
      "Func worker, run time: 31.577805995941162\n",
      "Func splitData, run time: 0.6250357627868652\n",
      "Experiment 3:\n",
      "Metric: {'Precision': 2.34, 'Recall': 4.75, 'Coverage': 0.11}\n",
      "Func worker, run time: 29.67869758605957\n",
      "Func splitData, run time: 0.7860450744628906\n",
      "Experiment 4:\n",
      "Metric: {'Precision': 2.3, 'Recall': 4.72, 'Coverage': 0.11}\n",
      "Func worker, run time: 34.32196307182312\n",
      "Func splitData, run time: 0.602034330368042\n",
      "Experiment 5:\n",
      "Metric: {'Precision': 2.34, 'Recall': 4.8, 'Coverage': 0.1}\n",
      "Func worker, run time: 28.758645057678223\n",
      "Func splitData, run time: 0.6280360221862793\n",
      "Experiment 6:\n",
      "Metric: {'Precision': 2.35, 'Recall': 4.76, 'Coverage': 0.11}\n",
      "Func worker, run time: 28.83064866065979\n",
      "Func splitData, run time: 0.8140463829040527\n",
      "Experiment 7:\n",
      "Metric: {'Precision': 2.3, 'Recall': 4.68, 'Coverage': 0.1}\n",
      "Func worker, run time: 28.61963701248169\n",
      "Func splitData, run time: 0.6140353679656982\n",
      "Experiment 8:\n",
      "Metric: {'Precision': 2.38, 'Recall': 4.81, 'Coverage': 0.11}\n",
      "Func worker, run time: 28.74164390563965\n",
      "Func splitData, run time: 0.6830389499664307\n",
      "Experiment 9:\n",
      "Metric: {'Precision': 2.32, 'Recall': 4.77, 'Coverage': 0.11}\n",
      "Func worker, run time: 29.778703451156616\n",
      "Average Result (M=10, N=10): {'Precision': 2.333, 'Recall': 4.75, 'Coverage': 0.10500000000000001}\n",
      "Func run, run time: 356.00936245918274\n"
     ]
    }
   ],
   "source": [
    "M, N = 10, 10\n",
    "exp = Experiment(M, N, at='GenderMostPopular')\n",
    "exp.run()"
   ]
  },
  {
   "cell_type": "markdown",
   "metadata": {},
   "source": [
    "### 3. AgeMostPopular"
   ]
  },
  {
   "cell_type": "code",
   "execution_count": 15,
   "metadata": {},
   "outputs": [
    {
     "name": "stdout",
     "output_type": "stream",
     "text": [
      "Func loadData, run time: 47.0456907749176\n",
      "Func splitData, run time: 0.6710383892059326\n",
      "Experiment 0:\n",
      "Metric: {'Precision': 2.45, 'Recall': 4.98, 'Coverage': 0.49}\n",
      "Func worker, run time: 22.68529748916626\n",
      "Func splitData, run time: 0.6670382022857666\n",
      "Experiment 1:\n",
      "Metric: {'Precision': 2.22, 'Recall': 4.47, 'Coverage': 0.49}\n",
      "Func worker, run time: 22.506287336349487\n",
      "Func splitData, run time: 0.6180355548858643\n",
      "Experiment 2:\n",
      "Metric: {'Precision': 2.35, 'Recall': 4.75, 'Coverage': 0.48}\n",
      "Func worker, run time: 21.3142192363739\n",
      "Func splitData, run time: 0.6870396137237549\n",
      "Experiment 3:\n",
      "Metric: {'Precision': 2.46, 'Recall': 4.96, 'Coverage': 0.48}\n",
      "Func worker, run time: 20.960198640823364\n",
      "Func splitData, run time: 0.6770386695861816\n",
      "Experiment 4:\n",
      "Metric: {'Precision': 2.33, 'Recall': 4.74, 'Coverage': 0.47}\n",
      "Func worker, run time: 21.495229721069336\n",
      "Func splitData, run time: 0.6210355758666992\n",
      "Experiment 5:\n",
      "Metric: {'Precision': 2.35, 'Recall': 4.8, 'Coverage': 0.47}\n",
      "Func worker, run time: 20.59517812728882\n",
      "Func splitData, run time: 0.6210355758666992\n",
      "Experiment 6:\n",
      "Metric: {'Precision': 2.33, 'Recall': 4.71, 'Coverage': 0.48}\n",
      "Func worker, run time: 20.736186027526855\n",
      "Func splitData, run time: 0.6950397491455078\n",
      "Experiment 7:\n",
      "Metric: {'Precision': 2.34, 'Recall': 4.72, 'Coverage': 0.5}\n",
      "Func worker, run time: 21.500229835510254\n",
      "Func splitData, run time: 0.6960399150848389\n",
      "Experiment 8:\n",
      "Metric: {'Precision': 2.37, 'Recall': 4.76, 'Coverage': 0.49}\n",
      "Func worker, run time: 22.777302742004395\n",
      "Func splitData, run time: 0.8900511264801025\n",
      "Experiment 9:\n",
      "Metric: {'Precision': 2.36, 'Recall': 4.82, 'Coverage': 0.47}\n",
      "Func worker, run time: 23.177325963974\n",
      "Average Result (M=10, N=10): {'Precision': 2.3560000000000003, 'Recall': 4.770999999999999, 'Coverage': 0.48199999999999993}\n",
      "Func run, run time: 272.3795793056488\n"
     ]
    }
   ],
   "source": [
    "M, N = 10, 10\n",
    "exp = Experiment(M, N, at='AgeMostPopular')\n",
    "exp.run()"
   ]
  },
  {
   "cell_type": "markdown",
   "metadata": {},
   "source": [
    "### 4. CountryMostPopular"
   ]
  },
  {
   "cell_type": "code",
   "execution_count": 16,
   "metadata": {
    "scrolled": true
   },
   "outputs": [
    {
     "name": "stdout",
     "output_type": "stream",
     "text": [
      "Func loadData, run time: 97.45357394218445\n",
      "Func splitData, run time: 1.8221039772033691\n",
      "Experiment 0:\n",
      "Metric: {'Precision': 2.4, 'Recall': 4.85, 'Coverage': 2.59}\n",
      "Func worker, run time: 6.109349489212036\n",
      "Func splitData, run time: 0.6920394897460938\n",
      "Experiment 1:\n",
      "Metric: {'Precision': 2.36, 'Recall': 4.74, 'Coverage': 2.58}\n",
      "Func worker, run time: 4.733270645141602\n",
      "Func splitData, run time: 0.6970396041870117\n",
      "Experiment 2:\n",
      "Metric: {'Precision': 2.41, 'Recall': 4.82, 'Coverage': 2.62}\n",
      "Func worker, run time: 4.655266284942627\n",
      "Func splitData, run time: 0.6400365829467773\n",
      "Experiment 3:\n",
      "Metric: {'Precision': 2.45, 'Recall': 4.9, 'Coverage': 2.61}\n",
      "Func worker, run time: 4.7202699184417725\n",
      "Func splitData, run time: 0.7340419292449951\n",
      "Experiment 4:\n",
      "Metric: {'Precision': 2.37, 'Recall': 4.79, 'Coverage': 2.61}\n",
      "Func worker, run time: 4.662266492843628\n",
      "Func splitData, run time: 0.6950395107269287\n",
      "Experiment 5:\n",
      "Metric: {'Precision': 2.52, 'Recall': 5.1, 'Coverage': 2.61}\n",
      "Func worker, run time: 4.8642778396606445\n",
      "Func splitData, run time: 0.711040735244751\n",
      "Experiment 6:\n",
      "Metric: {'Precision': 2.39, 'Recall': 4.78, 'Coverage': 2.58}\n",
      "Func worker, run time: 4.783273696899414\n",
      "Func splitData, run time: 0.7470428943634033\n",
      "Experiment 7:\n",
      "Metric: {'Precision': 2.49, 'Recall': 4.99, 'Coverage': 2.61}\n",
      "Func worker, run time: 4.77327299118042\n",
      "Func splitData, run time: 0.6580374240875244\n",
      "Experiment 8:\n",
      "Metric: {'Precision': 2.57, 'Recall': 5.13, 'Coverage': 2.62}\n",
      "Func worker, run time: 4.767272710800171\n",
      "Func splitData, run time: 0.6820390224456787\n",
      "Experiment 9:\n",
      "Metric: {'Precision': 2.38, 'Recall': 4.82, 'Coverage': 2.6}\n",
      "Func worker, run time: 4.886279582977295\n",
      "Average Result (M=10, N=10): {'Precision': 2.434, 'Recall': 4.892000000000001, 'Coverage': 2.603}\n",
      "Func run, run time: 155.2368791103363\n"
     ]
    }
   ],
   "source": [
    "M, N = 10, 10\n",
    "exp = Experiment(M, N, at='CountryMostPopular')\n",
    "exp.run()"
   ]
  },
  {
   "cell_type": "markdown",
   "metadata": {},
   "source": [
    "### 5. DemographicMostPopular"
   ]
  },
  {
   "cell_type": "code",
   "execution_count": 17,
   "metadata": {},
   "outputs": [
    {
     "name": "stdout",
     "output_type": "stream",
     "text": [
      "Func loadData, run time: 71.61909627914429\n",
      "Func splitData, run time: 0.8030459880828857\n",
      "Experiment 0:\n",
      "Metric: {'Precision': 2.25, 'Recall': 4.52, 'Coverage': 3.32}\n",
      "Func worker, run time: 28.923654556274414\n",
      "Func splitData, run time: 0.6320362091064453\n",
      "Experiment 1:\n",
      "Metric: {'Precision': 2.24, 'Recall': 4.49, 'Coverage': 3.34}\n",
      "Func worker, run time: 31.717813968658447\n",
      "Func splitData, run time: 0.7390422821044922\n",
      "Experiment 2:\n",
      "Metric: {'Precision': 2.33, 'Recall': 4.64, 'Coverage': 3.25}\n",
      "Func worker, run time: 35.08500695228577\n",
      "Func splitData, run time: 0.6840391159057617\n",
      "Experiment 3:\n",
      "Metric: {'Precision': 2.21, 'Recall': 4.42, 'Coverage': 3.27}\n",
      "Func worker, run time: 31.2217857837677\n",
      "Func splitData, run time: 0.6820390224456787\n",
      "Experiment 4:\n",
      "Metric: {'Precision': 2.18, 'Recall': 4.39, 'Coverage': 3.31}\n",
      "Func worker, run time: 34.09795069694519\n",
      "Func splitData, run time: 0.6100349426269531\n",
      "Experiment 5:\n",
      "Metric: {'Precision': 2.14, 'Recall': 4.33, 'Coverage': 3.27}\n",
      "Func worker, run time: 33.471914529800415\n",
      "Func splitData, run time: 0.6070346832275391\n",
      "Experiment 6:\n",
      "Metric: {'Precision': 2.26, 'Recall': 4.49, 'Coverage': 3.24}\n",
      "Func worker, run time: 29.993715286254883\n",
      "Func splitData, run time: 0.5870335102081299\n",
      "Experiment 7:\n",
      "Metric: {'Precision': 2.31, 'Recall': 4.61, 'Coverage': 3.34}\n",
      "Func worker, run time: 31.871822834014893\n",
      "Func splitData, run time: 0.7640435695648193\n",
      "Experiment 8:\n",
      "Metric: {'Precision': 2.3, 'Recall': 4.57, 'Coverage': 3.32}\n",
      "Func worker, run time: 32.7868754863739\n",
      "Func splitData, run time: 0.591033935546875\n",
      "Experiment 9:\n",
      "Metric: {'Precision': 2.28, 'Recall': 4.61, 'Coverage': 3.25}\n",
      "Func worker, run time: 30.460742235183716\n",
      "Average Result (M=10, N=10): {'Precision': 2.2500000000000004, 'Recall': 4.507, 'Coverage': 3.2909999999999995}\n",
      "Func run, run time: 398.5817973613739\n"
     ]
    }
   ],
   "source": [
    "M, N = 10, 10\n",
    "exp = Experiment(M, N, at='DemographicMostPopular')\n",
    "exp.run()"
   ]
  }
 ],
 "metadata": {
  "kernelspec": {
   "display_name": "Python 3",
   "language": "python",
   "name": "python3"
  },
  "language_info": {
   "codemirror_mode": {
    "name": "ipython",
    "version": 3
   },
   "file_extension": ".py",
   "mimetype": "text/x-python",
   "name": "python",
   "nbconvert_exporter": "python",
   "pygments_lexer": "ipython3",
   "version": "3.6.5"
  },
  "toc": {
   "base_numbering": 1,
   "nav_menu": {},
   "number_sections": false,
   "sideBar": true,
   "skip_h1_title": true,
   "title_cell": "Table of Contents",
   "title_sidebar": "Contents",
   "toc_cell": true,
   "toc_position": {},
   "toc_section_display": true,
   "toc_window_display": true
  }
 },
 "nbformat": 4,
 "nbformat_minor": 2
}
